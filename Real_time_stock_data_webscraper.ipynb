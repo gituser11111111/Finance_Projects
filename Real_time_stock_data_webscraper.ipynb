{
 "cells": [
  {
   "cell_type": "code",
   "execution_count": 1,
   "id": "d2f669c6",
   "metadata": {},
   "outputs": [],
   "source": [
    "import pandas as pd\n",
    "import datetime\n",
    "import requests\n",
    "from requests.exceptions import ConnectionError\n",
    "from bs4 import BeautifulSoup\n",
    "import os"
   ]
  },
  {
   "cell_type": "code",
   "execution_count": null,
   "id": "4c933f2b",
   "metadata": {},
   "outputs": [],
   "source": [
    "stock = ['AAPL']"
   ]
  },
  {
   "cell_type": "code",
   "execution_count": null,
   "id": "be148ec3",
   "metadata": {},
   "outputs": [],
   "source": [
    "def web_content_div(web_content, class_path, value):\n",
    "    web_content_div = web_content.find_all('div', {'class': class_path})\n",
    "    try:\n",
    "        if value != 'None':\n",
    "            spans = web_content_div[0].find_all('value')\n",
    "            texts = [span.get_text() for span in spans]\n",
    "        else:\n",
    "            texts = []\n",
    "    except IndexError:\n",
    "        texts = []\n",
    "        \n",
    "    return texts"
   ]
  },
  {
   "cell_type": "code",
   "execution_count": null,
   "id": "4a57acac",
   "metadata": {},
   "outputs": [],
   "source": [
    "def real_time_price(stock_code):\n",
    "    Error = 0\n",
    "    url = 'https://finance.yahoo.com/quote/' + stock_code + '?p=' + stock_code + '&.tsrc=fin-srch'\n",
    "    try:\n",
    "        r = requests.get(url)\n",
    "        web_content = BeautifulSoup(r.text, 'lxml')\n",
    "        texts = web_content_div(web_content, \"D(ib) Mend(20px)\", \"fin-streamer\")\n",
    "        \n",
    "        print(texts)\n",
    "        price, change, volume, latest_pattern, one_year_target = [], [], [], [], []\n",
    "        \n",
    "        \n",
    "    except ConnectionError:\n",
    "        price, change, volume, latest_pattern, one_year_target = [], [], [], [], []\n",
    "        Error = 1\n",
    "        print('Connection Error')\n",
    "        \n",
    "    return price, change, volume, latest_pattern, one_year_target, Error\n",
    "\n",
    "stock = ['AAPL']\n",
    "\n",
    "\n",
    "\n",
    "\n",
    "        \n"
   ]
  },
  {
   "cell_type": "code",
   "execution_count": null,
   "id": "3cc5516f",
   "metadata": {},
   "outputs": [],
   "source": [
    "while (True):\n",
    "    \n",
    "    for stock in stock:\n",
    "        price, change, volume, latest_pattern, one_year_target, Error = real_time_price(stock)"
   ]
  },
  {
   "cell_type": "code",
   "execution_count": null,
   "id": "a68c1ddc",
   "metadata": {},
   "outputs": [],
   "source": [
    "<div class=\"D(ib) Mend(20px)\"><fin-streamer class=\"Fw(b) Fz(36px) Mb(-4px) D(ib)\" data-symbol=\"EADSY\" data-test=\"qsp-price\" data-field=\"regularMarketPrice\" data-trend=\"none\" data-pricehint=\"2\" value=\"25.2\" active=\"\">25.20</fin-streamer><fin-streamer class=\"Fw(500) Pstart(8px) Fz(24px)\" data-symbol=\"EADSY\" data-test=\"qsp-price-change\" data-field=\"regularMarketChange\" data-trend=\"txt\" data-pricehint=\"2\" value=\"1.0500011\" active=\"\"><span class=\"C($positiveColor)\">+1.05</span></fin-streamer> <fin-streamer class=\"Fw(500) Pstart(8px) Fz(24px)\" data-symbol=\"EADSY\" data-field=\"regularMarketChangePercent\" data-trend=\"txt\" data-pricehint=\"2\" data-template=\"({fmt})\" value=\"0.043478306\" active=\"\"><span class=\"C($positiveColor)\">(+4.35%)</span></fin-streamer><fin-streamer class=\"D(n)\" data-symbol=\"EADSY\" changeev=\"regularTimeChange\" data-field=\"regularMarketTime\" data-trend=\"none\" value=\"\" active=\"true\"></fin-streamer><fin-streamer class=\"D(n)\" data-symbol=\"EADSY\" changeev=\"marketState\" data-field=\"marketState\" data-trend=\"none\" value=\"\" active=\"true\"></fin-streamer><div id=\"quote-market-notice\" class=\"C($tertiaryColor) D(b) Fz(12px) Fw(n) Mstart(0)--mobpsm Mt(6px)--mobpsm Whs(n)\"><span>As of  01:30PM EDT. Market open.</span></div></div>"
   ]
  },
  {
   "cell_type": "code",
   "execution_count": null,
   "id": "ac576d4c",
   "metadata": {},
   "outputs": [],
   "source": []
  }
 ],
 "metadata": {
  "kernelspec": {
   "display_name": "Python 3",
   "language": "python",
   "name": "python3"
  },
  "language_info": {
   "codemirror_mode": {
    "name": "ipython",
    "version": 3
   },
   "file_extension": ".py",
   "mimetype": "text/x-python",
   "name": "python",
   "nbconvert_exporter": "python",
   "pygments_lexer": "ipython3",
   "version": "3.8.8"
  }
 },
 "nbformat": 4,
 "nbformat_minor": 5
}
